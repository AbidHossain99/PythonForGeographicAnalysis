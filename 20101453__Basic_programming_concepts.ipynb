{
  "nbformat": 4,
  "nbformat_minor": 0,
  "metadata": {
    "colab": {
      "provenance": []
    },
    "kernelspec": {
      "name": "python3",
      "display_name": "Python 3"
    },
    "language_info": {
      "name": "python"
    }
  },
  "cells": [
    {
      "cell_type": "markdown",
      "source": [
        "**Exercise 2.1 - Getting started with Python**"
      ],
      "metadata": {
        "id": "Akgl3MpJe_cr"
      }
    },
    {
      "cell_type": "code",
      "execution_count": null,
      "metadata": {
        "colab": {
          "base_uri": "https://localhost:8080/"
        },
        "id": "FCBrsa7ad3XG",
        "outputId": "a76e5e78-7063-4080-f32d-471a50674fc0"
      },
      "outputs": [
        {
          "output_type": "stream",
          "name": "stdout",
          "text": [
            "<class 'int'>\n",
            "<class 'int'>\n",
            "<class 'str'>\n",
            "<class 'float'>\n",
            "My name is Dave and I give eating ice cream a score of 9 out of 10!\n",
            "My sleeping enjoyment rating is 8 / 10!\n",
            "Based on the factors above, my happiness rating is 8.5 out of 10 or 85.0 %!\n"
          ]
        }
      ],
      "source": [
        "icecream_r = 9\n",
        "sleeping_e = 8\n",
        "char_s = \"Dave\"\n",
        "\n",
        "happiness_r = (icecream_r + sleeping_e)/2\n",
        "happiness_rate= (happiness_r/10)*100\n",
        "\n",
        "print(type(icecream_r))\n",
        "print(type(sleeping_e))\n",
        "print(type(char_s))\n",
        "print(type(happiness_r))\n",
        "\n",
        "print(\"My name is\", char_s,  \"and I give eating ice cream a score of\", icecream_r, \"out of 10!\")\n",
        "print(\"My sleeping enjoyment rating is\", sleeping_e, \"/ 10!\")\n",
        "print(\"Based on the factors above, my happiness rating is\", happiness_r, \"out of 10 or\",happiness_rate, \"%!\")"
      ]
    },
    {
      "cell_type": "markdown",
      "source": [
        "**Exercise 2.2 - Creating and changing lists**"
      ],
      "metadata": {
        "id": "sMfW1EdGiez6"
      }
    },
    {
      "cell_type": "code",
      "source": [
        "station_name= [\"lighthouse\",\"Harmaja\",\"Suomenlinna_aaltopoiju\",\"Kumpula\",\"Kaisaniemi\",\"Malmi airfield\",\"Vuosaari harbour\",\"Kaivopuisto\"]\n",
        "operation = [2003,1989,2016,2005,1844,1937,2012,1904]\n",
        "\n",
        "station_name.sort()\n",
        "print(station_name)\n",
        "operation.sort()\n",
        "operation.reverse()\n",
        "print(operation)"
      ],
      "metadata": {
        "colab": {
          "base_uri": "https://localhost:8080/"
        },
        "id": "cbK3wwMeilPf",
        "outputId": "1b35bead-9993-446a-d388-335fd1fb1abb"
      },
      "execution_count": null,
      "outputs": [
        {
          "output_type": "stream",
          "name": "stdout",
          "text": [
            "['Harmaja', 'Kaisaniemi', 'Kaivopuisto', 'Kumpula', 'Malmi airfield', 'Suomenlinna_aaltopoiju', 'Vuosaari harbour', 'lighthouse']\n",
            "[2016, 2012, 2005, 2003, 1989, 1937, 1904, 1844]\n"
          ]
        }
      ]
    },
    {
      "cell_type": "markdown",
      "source": [
        "**Exercise 2.3 - Lists and index values**"
      ],
      "metadata": {
        "id": "hFwQTNjnDZvI"
      }
    },
    {
      "cell_type": "code",
      "source": [
        "month= [\"January\",\"February\",\"March\",\"April\",\"May\",\"June\",\"July\",\"August\",\"September\",\"October\",\"November\",\"December\"]\n",
        "temp= [-3.5,-4.5,-1.0,4.0,10.0,15.0,18.0,16.0,11.5,6.0,2.0,-1.5]\n",
        "\n",
        "i= 0\n",
        "while i<len(month):\n",
        "  print(\"The average temperature in Helsinki in\", month[i], \"is\", temp[i])\n",
        "  i=i+1"
      ],
      "metadata": {
        "colab": {
          "base_uri": "https://localhost:8080/"
        },
        "id": "dGfdx_CiDdLC",
        "outputId": "69f331f6-3db1-4fad-c8f4-738948e1229c"
      },
      "execution_count": null,
      "outputs": [
        {
          "output_type": "stream",
          "name": "stdout",
          "text": [
            "The average temperature in Helsinki in January is -3.5\n",
            "The average temperature in Helsinki in February is -4.5\n",
            "The average temperature in Helsinki in March is -1.0\n",
            "The average temperature in Helsinki in April is 4.0\n",
            "The average temperature in Helsinki in May is 10.0\n",
            "The average temperature in Helsinki in June is 15.0\n",
            "The average temperature in Helsinki in July is 18.0\n",
            "The average temperature in Helsinki in August is 16.0\n",
            "The average temperature in Helsinki in September is 11.5\n",
            "The average temperature in Helsinki in October is 6.0\n",
            "The average temperature in Helsinki in November is 2.0\n",
            "The average temperature in Helsinki in December is -1.5\n"
          ]
        }
      ]
    },
    {
      "cell_type": "markdown",
      "source": [
        "**Exercise 2.4 - Batch processing files with a for loop**"
      ],
      "metadata": {
        "id": "hIuUO8iKFlPM"
      }
    },
    {
      "cell_type": "code",
      "source": [
        "temperatures = [-5.4, 1.0, -1.3, -4.8, 3.9, 0.1, -4.4, 4.0, -2.2, -3.9, 4.4,\n",
        "                -2.5, -4.6, 5.1, 2.1, -2.4, 1.9, -3.3, -4.8, 1.0, -0.8, -2.8,\n",
        "                -0.1, -4.7, -5.6, 2.6, -2.7, -4.6, 3.4, -0.4, -0.9, 3.1, 2.4,\n",
        "                1.6, 4.2, 3.5, 2.6, 3.1, 2.2, 1.8, 3.3, 1.6, 1.5, 4.7, 4.0,\n",
        "                3.6, 4.9, 4.8, 5.3, 5.6, 4.1, 3.7, 7.6, 6.9, 5.1, 6.4, 3.8,\n",
        "                4.0, 8.6, 4.1, 1.4, 8.9, 3.0, 1.6, 8.5, 4.7, 6.6, 8.1, 4.5,\n",
        "                4.8, 11.3, 4.7, 5.2, 11.5, 6.2, 2.9, 4.3, 2.8, 2.8, 6.3, 2.6,\n",
        "                -0.0, 7.3, 3.4, 4.7, 9.3, 6.4, 5.4, 7.6, 5.2]\n",
        "cold=[]\n",
        "slippery=[]\n",
        "comfortable=[]\n",
        "warm=[]\n",
        "\n",
        "for i in temperatures:\n",
        "  if i<-2:\n",
        "    cold.append(i)\n",
        "  elif i>=-2 and i<2:\n",
        "    slippery.append(i)\n",
        "  elif i>=2 and i<15:\n",
        "    comfortable.append(i)\n",
        "  else:\n",
        "    warm.append(i)\n",
        "\n",
        "print(len(cold))\n",
        "print(len(slippery))\n",
        "print(len(comfortable))\n",
        "print(len(warm))\n",
        "\n",
        "print(cold)\n",
        "print(slippery)\n",
        "print(comfortable)\n",
        "print(warm)"
      ],
      "metadata": {
        "colab": {
          "base_uri": "https://localhost:8080/"
        },
        "id": "Gsn2GGQNFrQz",
        "outputId": "130f0642-f38d-4cb0-9e2d-7ef94c51e361"
      },
      "execution_count": null,
      "outputs": [
        {
          "output_type": "stream",
          "name": "stdout",
          "text": [
            "15\n",
            "16\n",
            "59\n",
            "0\n",
            "[-5.4, -4.8, -4.4, -2.2, -3.9, -2.5, -4.6, -2.4, -3.3, -4.8, -2.8, -4.7, -5.6, -2.7, -4.6]\n",
            "[1.0, -1.3, 0.1, 1.9, 1.0, -0.8, -0.1, -0.4, -0.9, 1.6, 1.8, 1.6, 1.5, 1.4, 1.6, -0.0]\n",
            "[3.9, 4.0, 4.4, 5.1, 2.1, 2.6, 3.4, 3.1, 2.4, 4.2, 3.5, 2.6, 3.1, 2.2, 3.3, 4.7, 4.0, 3.6, 4.9, 4.8, 5.3, 5.6, 4.1, 3.7, 7.6, 6.9, 5.1, 6.4, 3.8, 4.0, 8.6, 4.1, 8.9, 3.0, 8.5, 4.7, 6.6, 8.1, 4.5, 4.8, 11.3, 4.7, 5.2, 11.5, 6.2, 2.9, 4.3, 2.8, 2.8, 6.3, 2.6, 7.3, 3.4, 4.7, 9.3, 6.4, 5.4, 7.6, 5.2]\n",
            "[]\n"
          ]
        }
      ]
    },
    {
      "cell_type": "markdown",
      "source": [
        "**Exercise 2.6 - A temperature conversion function**"
      ],
      "metadata": {
        "id": "ouVu9khBKKyF"
      }
    },
    {
      "cell_type": "code",
      "source": [
        "def fahrenheit_to_celsius(temp):\n",
        "  new_temp= (temp-32)*5/9\n",
        "  print(temp, \"F is equal to\", new_temp,\"C\")\n",
        "\n",
        "fahrenheit_to_celsius(32)\n",
        "fahrenheit_to_celsius(68)\n",
        "fahrenheit_to_celsius(91)\n",
        "fahrenheit_to_celsius(-17)"
      ],
      "metadata": {
        "colab": {
          "base_uri": "https://localhost:8080/"
        },
        "id": "gcu0b7oqKTKF",
        "outputId": "f2d63d70-e106-4dbf-c16d-a6a54eb893cd"
      },
      "execution_count": null,
      "outputs": [
        {
          "output_type": "stream",
          "name": "stdout",
          "text": [
            "32 F is equal to 0.0 C\n",
            "68 F is equal to 20.0 C\n",
            "91 F is equal to 32.77777777777778 C\n",
            "-17 F is equal to -27.22222222222222 C\n"
          ]
        }
      ]
    },
    {
      "cell_type": "markdown",
      "source": [
        "**Exercise 2.7 - A temperature classifier function**"
      ],
      "metadata": {
        "id": "umU4EFbqLSIW"
      }
    },
    {
      "cell_type": "code",
      "source": [
        "def fahrenheit_to_celsius(temp):\n",
        "  category = [\"cold\", \"slippery\", \"comfortable\", \"warm\"]  \n",
        "  if temp<-2:\n",
        "    print(category[0])\n",
        "  elif temp>=-2 and temp<2:\n",
        "    print(category[1])\n",
        "  elif temp>=2 and temp<15:\n",
        "    print(category[2])\n",
        "  elif temp>2:\n",
        "    print(category[3])\n",
        "  #print(temp, \"F is equal to\", new_temp,\"C\")\n",
        "\n",
        "fahrenheit_to_celsius(17)\n",
        "fahrenheit_to_celsius(2)\n",
        "fahrenheit_to_celsius(1.9)\n",
        "fahrenheit_to_celsius(-2)"
      ],
      "metadata": {
        "colab": {
          "base_uri": "https://localhost:8080/"
        },
        "id": "8xTK4c4fLRsj",
        "outputId": "11df871b-8130-4e7d-9bba-7ca119f378e1"
      },
      "execution_count": null,
      "outputs": [
        {
          "output_type": "stream",
          "name": "stdout",
          "text": [
            "warm\n",
            "comfortable\n",
            "slippery\n",
            "slippery\n"
          ]
        }
      ]
    }
  ]
}